{
 "cells": [
  {
   "cell_type": "markdown",
   "id": "a7164dfc",
   "metadata": {},
   "source": [
    "# WEEK 4 PROJECT\n"
   ]
  },
  {
   "cell_type": "markdown",
   "id": "1290946d",
   "metadata": {},
   "source": [
    "## 1. Import required libraries and read the dataset."
   ]
  },
  {
   "cell_type": "code",
   "execution_count": null,
   "id": "47cb5308",
   "metadata": {},
   "outputs": [],
   "source": [
    "import numpy as np\n",
    "import pandas as pd\n",
    "import matplotlib.pyplot as plt\n",
    "import seaborn as sns\n",
    "from sklearn.impute import KNNImputer,SimpleImputer\n",
    "from scipy.stats import zscore\n",
    "from sklearn.preprocessing import FunctionTransformer\n",
    "from sklearn.preprocessing import LabelEncoder\n",
    "from sklearn.model_selection import train_test_split\n",
    "\n",
    "import warnings \n",
    "warnings.filterwarnings('ignore')"
   ]
  },
  {
   "cell_type": "code",
   "execution_count": null,
   "id": "935e5235",
   "metadata": {},
   "outputs": [],
   "source": [
    "df = pd.read_csv('Apps_data+(1).csv')\n",
    "df.head()"
   ]
  },
  {
   "cell_type": "markdown",
   "id": "2ed598de",
   "metadata": {},
   "source": [
    "### 2. Check the first few samples, shape, info of the data and try to familiarize yourself with different features."
   ]
  },
  {
   "cell_type": "code",
   "execution_count": null,
   "id": "f1430ff6",
   "metadata": {},
   "outputs": [],
   "source": [
    "df.sample(5)"
   ]
  },
  {
   "cell_type": "code",
   "execution_count": null,
   "id": "9fb6c4bd",
   "metadata": {},
   "outputs": [],
   "source": [
    "rows,columns = df.shape\n",
    "print('Number of rows : ',rows)\n",
    "print('Number of columns : ',columns)"
   ]
  },
  {
   "cell_type": "code",
   "execution_count": null,
   "id": "6a5f192d",
   "metadata": {},
   "outputs": [],
   "source": [
    "df.info()"
   ]
  },
  {
   "cell_type": "markdown",
   "id": "fc30ddbc",
   "metadata": {},
   "source": [
    "### 3. Check summary statistics of the dataset. List out the columns that need to be worked upon for model building.\n"
   ]
  },
  {
   "cell_type": "code",
   "execution_count": null,
   "id": "165d6d3e",
   "metadata": {},
   "outputs": [],
   "source": [
    "df.describe().T"
   ]
  },
  {
   "cell_type": "code",
   "execution_count": null,
   "id": "6074e21a",
   "metadata": {},
   "outputs": [],
   "source": [
    "# all the categorical column needs to be worked for model buiding\n",
    "df.describe(include=object).T"
   ]
  },
  {
   "cell_type": "code",
   "execution_count": null,
   "id": "2daf2f38",
   "metadata": {},
   "outputs": [],
   "source": [
    "df1 = df.copy()"
   ]
  },
  {
   "cell_type": "markdown",
   "id": "874708e4",
   "metadata": {},
   "source": [
    "### 4. Check if there are any duplicate records in the dataset? if any drop them."
   ]
  },
  {
   "cell_type": "code",
   "execution_count": null,
   "id": "5f42c2c5",
   "metadata": {},
   "outputs": [],
   "source": [
    "print('Any duplicate records in the dataset?',df1.duplicated().any())\n",
    "df1[df1.duplicated()].count()\n"
   ]
  },
  {
   "cell_type": "code",
   "execution_count": null,
   "id": "74a61b5f",
   "metadata": {},
   "outputs": [],
   "source": [
    "df1.drop_duplicates(inplace=True)"
   ]
  },
  {
   "cell_type": "code",
   "execution_count": null,
   "id": "457c126d",
   "metadata": {},
   "outputs": [],
   "source": [
    "df1[df1.duplicated()].count()"
   ]
  },
  {
   "cell_type": "markdown",
   "id": "a50dafe1",
   "metadata": {},
   "source": [
    "###  5. Check the unique categories of the column 'Category', Is there any invalid category? If yes, drop them."
   ]
  },
  {
   "cell_type": "code",
   "execution_count": null,
   "id": "9b227384",
   "metadata": {},
   "outputs": [],
   "source": [
    "df1.Category.unique()"
   ]
  },
  {
   "cell_type": "code",
   "execution_count": null,
   "id": "b00ff5f9",
   "metadata": {},
   "outputs": [],
   "source": [
    "df1['Category'].value_counts()"
   ]
  },
  {
   "cell_type": "code",
   "execution_count": null,
   "id": "6862f081",
   "metadata": {},
   "outputs": [],
   "source": [
    "# 1.9 is the invalid category\n",
    "df1.drop(df1[df1['Category'] == '1.9'].index,inplace=True)"
   ]
  },
  {
   "cell_type": "markdown",
   "id": "a3f7c112",
   "metadata": {},
   "source": [
    "###  6. Check if there are missing values present in the column Rating, If any? drop them and and create a new column as 'Rating_category' by converting ratings to high and low categories(>3.5 is high rest low)\n"
   ]
  },
  {
   "cell_type": "code",
   "execution_count": null,
   "id": "31d3c947",
   "metadata": {},
   "outputs": [],
   "source": [
    "df1['Rating'].isnull().sum()"
   ]
  },
  {
   "cell_type": "code",
   "execution_count": null,
   "id": "aeb889af",
   "metadata": {},
   "outputs": [],
   "source": [
    "df1.dropna(subset=['Rating'],inplace=True)"
   ]
  },
  {
   "cell_type": "code",
   "execution_count": null,
   "id": "7cbd9908",
   "metadata": {},
   "outputs": [],
   "source": [
    "df1.Rating.isnull().sum()"
   ]
  },
  {
   "cell_type": "code",
   "execution_count": null,
   "id": "45324cc6",
   "metadata": {},
   "outputs": [],
   "source": [
    "df1['Rating_category'] = df1['Rating'].apply(lambda x: 'High' if x>3.5 else 'Low')\n",
    "df1.head()"
   ]
  },
  {
   "cell_type": "markdown",
   "id": "44a22eda",
   "metadata": {},
   "source": [
    "###  7. Check the distribution of the newly created column 'Rating_category' and comment on the distribution."
   ]
  },
  {
   "cell_type": "code",
   "execution_count": null,
   "id": "96accd46",
   "metadata": {},
   "outputs": [],
   "source": [
    "sns.displot(df1['Rating_category'])\n",
    "plt.show()"
   ]
  },
  {
   "cell_type": "markdown",
   "id": "e8aa36fc",
   "metadata": {},
   "source": [
    "#####  *There are nearly 8000 apps that have ratings more than 3.5\n",
    "##### *less than 1000 apps having ratings less than 3.5\n"
   ]
  },
  {
   "cell_type": "markdown",
   "id": "52e260d9",
   "metadata": {},
   "source": [
    "### 8. Convert the column \"Reviews'' to numeric data type and check the presence of outliers in the column and handle the outliers using a transformation approach.(Hint: Use log transformation)"
   ]
  },
  {
   "cell_type": "code",
   "execution_count": null,
   "id": "6ca54aa3",
   "metadata": {},
   "outputs": [],
   "source": [
    "df1.Reviews.dtypes"
   ]
  },
  {
   "cell_type": "code",
   "execution_count": null,
   "id": "7bd5a689",
   "metadata": {},
   "outputs": [],
   "source": [
    "df1.Reviews"
   ]
  },
  {
   "cell_type": "code",
   "execution_count": null,
   "id": "fed26177",
   "metadata": {},
   "outputs": [],
   "source": [
    "# df1.Reviews.iloc[8644] = 3.0"
   ]
  },
  {
   "cell_type": "code",
   "execution_count": null,
   "id": "b907058b",
   "metadata": {},
   "outputs": [],
   "source": [
    "# df1.Reviews.astype(float)"
   ]
  },
  {
   "cell_type": "code",
   "execution_count": null,
   "id": "b920342f",
   "metadata": {},
   "outputs": [],
   "source": [
    "# If 'coerce', then invalid parsing will be set as NaN.in 8644 has a invalid value in this column.\n",
    "df1['Reviews'] = pd.to_numeric(df1.Reviews,errors = 'coerce')"
   ]
  },
  {
   "cell_type": "code",
   "execution_count": null,
   "id": "3b63a53e",
   "metadata": {},
   "outputs": [],
   "source": [
    "df1['Reviews'].dtypes"
   ]
  },
  {
   "cell_type": "code",
   "execution_count": null,
   "id": "ca385050",
   "metadata": {},
   "outputs": [],
   "source": [
    "df1['Reviews'].describe().apply(lambda x: (\"{:.2f}\".format(x)))"
   ]
  },
  {
   "cell_type": "code",
   "execution_count": null,
   "id": "53b91636",
   "metadata": {},
   "outputs": [],
   "source": [
    "sns.boxplot(data= df1['Reviews'])"
   ]
  },
  {
   "cell_type": "code",
   "execution_count": null,
   "id": "60dd56da",
   "metadata": {},
   "outputs": [],
   "source": [
    "transformer = FunctionTransformer(np.log1p)\n",
    "df1['Reviews'] = transformer.fit_transform(df1.Reviews)"
   ]
  },
  {
   "cell_type": "code",
   "execution_count": null,
   "id": "9fa74536",
   "metadata": {},
   "outputs": [],
   "source": [
    "sns.boxplot(df1.Reviews)"
   ]
  },
  {
   "cell_type": "markdown",
   "id": "7abbe954",
   "metadata": {},
   "source": [
    "### 9. The column 'Size' contains alphanumeric values, treat the non numeric data and convert the column into suitable data type. (hint: Replace M with 1 million and K with 1 thousand, and drop the entries where size='Varies with device')\n"
   ]
  },
  {
   "cell_type": "code",
   "execution_count": null,
   "id": "85e3ec82",
   "metadata": {},
   "outputs": [],
   "source": [
    "df1.Size[df1['Size'] == 'Varies with device'].value_counts()"
   ]
  },
  {
   "cell_type": "code",
   "execution_count": null,
   "id": "c02e1bf5",
   "metadata": {},
   "outputs": [],
   "source": [
    "df1[df1['Size'] == 'Varies with device'].index"
   ]
  },
  {
   "cell_type": "code",
   "execution_count": null,
   "id": "b459e112",
   "metadata": {},
   "outputs": [],
   "source": [
    "# drop the entries where size='Varies with device'\n",
    "df1 = df1.drop(labels = df1[df1.Size == 'Varies with device'].index , axis=0)\n"
   ]
  },
  {
   "cell_type": "code",
   "execution_count": null,
   "id": "1d770512",
   "metadata": {},
   "outputs": [],
   "source": [
    "# check for varies with device\n",
    "df1.Size[df1['Size'] == 'Varies with device'].value_counts()\n"
   ]
  },
  {
   "cell_type": "code",
   "execution_count": null,
   "id": "61c43d30",
   "metadata": {},
   "outputs": [],
   "source": [
    "df2 = df1.copy()"
   ]
  },
  {
   "cell_type": "code",
   "execution_count": null,
   "id": "dc72a75d",
   "metadata": {},
   "outputs": [],
   "source": [
    "# to treat million and thousand seperate the digit(size_num) and unit (size_unit)\n",
    "df2[['Size_num','Size_unit']] = df2['Size'].str.extract(r'(\\d+\\.\\d+|\\d+)([A-Za-z]+)')"
   ]
  },
  {
   "cell_type": "code",
   "execution_count": null,
   "id": "53bd521a",
   "metadata": {},
   "outputs": [],
   "source": [
    "df2.head()"
   ]
  },
  {
   "cell_type": "code",
   "execution_count": null,
   "id": "823b8db3",
   "metadata": {},
   "outputs": [],
   "source": [
    "# to know what are the unique units to be treated.\n",
    "df2['Size_unit'].unique()"
   ]
  },
  {
   "cell_type": "code",
   "execution_count": null,
   "id": "0f924a6f",
   "metadata": {},
   "outputs": [],
   "source": [
    "# repace million with 10,00,000 and k with 1000,nan with 0\n",
    "df2['Size_unit'] = df2['Size_unit'].replace({'M':1000000,'k':1000,np.nan:0})"
   ]
  },
  {
   "cell_type": "code",
   "execution_count": null,
   "id": "2f1e91d6",
   "metadata": {},
   "outputs": [],
   "source": [
    "df2.head()"
   ]
  },
  {
   "cell_type": "code",
   "execution_count": null,
   "id": "c0a9fb22",
   "metadata": {},
   "outputs": [],
   "source": [
    "df3 = df2.copy()"
   ]
  },
  {
   "cell_type": "code",
   "execution_count": null,
   "id": "337c251a",
   "metadata": {},
   "outputs": [],
   "source": [
    "df3.Size_num = df3.Size_num.astype(float)"
   ]
  },
  {
   "cell_type": "code",
   "execution_count": null,
   "id": "6c709ff2",
   "metadata": {},
   "outputs": [],
   "source": [
    "df3.Size_unit = df3.Size_unit.astype(float)"
   ]
  },
  {
   "cell_type": "code",
   "execution_count": null,
   "id": "e5d0ea10",
   "metadata": {},
   "outputs": [],
   "source": [
    "# size is the multiplication of number with its unit.now we get the size in float type.\n",
    "df3['Size'] = (df3['Size_num']) * (df3['Size_unit'])"
   ]
  },
  {
   "cell_type": "code",
   "execution_count": null,
   "id": "39fbee11",
   "metadata": {},
   "outputs": [],
   "source": [
    "df3.head()"
   ]
  },
  {
   "cell_type": "code",
   "execution_count": null,
   "id": "77957fe4",
   "metadata": {},
   "outputs": [],
   "source": [
    "df3.info()"
   ]
  },
  {
   "cell_type": "code",
   "execution_count": null,
   "id": "5be867ba",
   "metadata": {},
   "outputs": [],
   "source": [
    "# we get size in float so need for size_num and size_unit\n",
    "df3 = df3.drop(['Size_num','Size_unit'],axis=1)"
   ]
  },
  {
   "cell_type": "code",
   "execution_count": null,
   "id": "7f0fd670",
   "metadata": {},
   "outputs": [],
   "source": [
    "df3.head()"
   ]
  },
  {
   "cell_type": "markdown",
   "id": "bb3413de",
   "metadata": {},
   "source": [
    "### 10. Check the column 'Installs', treat the unwanted characters and convert the column into a suitable data type.\n"
   ]
  },
  {
   "cell_type": "code",
   "execution_count": null,
   "id": "2d790d30",
   "metadata": {},
   "outputs": [],
   "source": [
    "df3.Installs.sample(15)"
   ]
  },
  {
   "cell_type": "code",
   "execution_count": null,
   "id": "30e746e8",
   "metadata": {},
   "outputs": [],
   "source": [
    "# There are 3 unwanted characters in this column (+,Free)  so i repalce it with blank ,then only we can convert it into numerical\n",
    "df3['Installs_Morethan'] = df3.Installs.str.replace('+','').str.replace(',','').str.replace('Free','0')"
   ]
  },
  {
   "cell_type": "code",
   "execution_count": null,
   "id": "42dc4ac3",
   "metadata": {},
   "outputs": [],
   "source": [
    "df3.head()"
   ]
  },
  {
   "cell_type": "code",
   "execution_count": null,
   "id": "4c59e7c5",
   "metadata": {},
   "outputs": [],
   "source": [
    "df3['Installs_Morethan'] = df3['Installs_Morethan'].astype(int)"
   ]
  },
  {
   "cell_type": "code",
   "execution_count": null,
   "id": "1de3cdc9",
   "metadata": {},
   "outputs": [],
   "source": [
    "df3.info()"
   ]
  },
  {
   "cell_type": "code",
   "execution_count": null,
   "id": "ab1bc55e",
   "metadata": {},
   "outputs": [],
   "source": [
    "df3.drop(['Installs'],axis=1,inplace=True)"
   ]
  },
  {
   "cell_type": "code",
   "execution_count": null,
   "id": "e7d92e5e",
   "metadata": {},
   "outputs": [],
   "source": [
    "df3.info()"
   ]
  },
  {
   "cell_type": "markdown",
   "id": "5e800565",
   "metadata": {},
   "source": [
    "### 11. Check the column 'Price' , remove the unwanted characters and convert the column into a suitable data type."
   ]
  },
  {
   "cell_type": "code",
   "execution_count": null,
   "id": "d4e311c4",
   "metadata": {},
   "outputs": [],
   "source": [
    "# check what are the unwanted characteristics\n",
    "df3.Price.unique()"
   ]
  },
  {
   "cell_type": "code",
   "execution_count": null,
   "id": "40b5da33",
   "metadata": {},
   "outputs": [],
   "source": [
    "df3.Price = df3.Price.str.replace('$','').str.replace('Everyone','0')"
   ]
  },
  {
   "cell_type": "code",
   "execution_count": null,
   "id": "6ea5d0ac",
   "metadata": {},
   "outputs": [],
   "source": [
    "df3['Price'] = df3['Price'].astype(float)"
   ]
  },
  {
   "cell_type": "code",
   "execution_count": null,
   "id": "f35263b4",
   "metadata": {},
   "outputs": [],
   "source": [
    "df3.info()"
   ]
  },
  {
   "cell_type": "code",
   "execution_count": null,
   "id": "1f7fef34",
   "metadata": {},
   "outputs": [],
   "source": [
    "df4 = df3.copy()"
   ]
  },
  {
   "cell_type": "code",
   "execution_count": null,
   "id": "2e7621fe",
   "metadata": {},
   "outputs": [],
   "source": [
    "df4.drop(['App', 'Rating' ,'Genres','Last Updated',\n",
    "'Current Ver','Android Ver'],axis=1,inplace=True)"
   ]
  },
  {
   "cell_type": "code",
   "execution_count": null,
   "id": "55397461",
   "metadata": {},
   "outputs": [],
   "source": [
    "df4.info()"
   ]
  },
  {
   "cell_type": "markdown",
   "id": "a1a0be55",
   "metadata": {},
   "source": [
    "### 13. Encode the categorical columns.\n"
   ]
  },
  {
   "cell_type": "code",
   "execution_count": null,
   "id": "16da70f4",
   "metadata": {},
   "outputs": [],
   "source": [
    "df4.Category.unique()"
   ]
  },
  {
   "cell_type": "code",
   "execution_count": null,
   "id": "5f72e86c",
   "metadata": {},
   "outputs": [],
   "source": [
    "df4.Type.unique()"
   ]
  },
  {
   "cell_type": "code",
   "execution_count": null,
   "id": "e99a8be8",
   "metadata": {},
   "outputs": [],
   "source": [
    "df4['Content Rating'].unique()"
   ]
  },
  {
   "cell_type": "code",
   "execution_count": null,
   "id": "5beaa5c3",
   "metadata": {},
   "outputs": [],
   "source": [
    "df4.Rating_category.unique()"
   ]
  },
  {
   "cell_type": "code",
   "execution_count": null,
   "id": "a72e599e",
   "metadata": {},
   "outputs": [],
   "source": [
    "df_dum = df4.copy()"
   ]
  },
  {
   "cell_type": "code",
   "execution_count": null,
   "id": "a67f86c7",
   "metadata": {},
   "outputs": [],
   "source": [
    "#so many unique value in category column ,it increase the dimension by using one hot encoder so i prefer label encoder \n",
    "# rating_category as the target so we cannot do one hot encoding ,it seperate it into two columns.and also it is ordinal data. \n",
    "labelencoder = LabelEncoder()  \n",
    "df_dum['Category_label'] = labelencoder.fit_transform(df_dum.Category)\n",
    "df_dum['Rating_category'] = labelencoder.fit_transform(df_dum.Rating_category)"
   ]
  },
  {
   "cell_type": "code",
   "execution_count": null,
   "id": "93b9528c",
   "metadata": {},
   "outputs": [],
   "source": [
    "df_dum.Rating_category.unique()# it takes 0 for high 1 for low"
   ]
  },
  {
   "cell_type": "code",
   "execution_count": null,
   "id": "3cc48735",
   "metadata": {},
   "outputs": [],
   "source": [
    "df_dum.drop(['Category'],axis=1,inplace=True)"
   ]
  },
  {
   "cell_type": "code",
   "execution_count": null,
   "id": "6e05c507",
   "metadata": {},
   "outputs": [],
   "source": [
    "df_dum.head()"
   ]
  },
  {
   "cell_type": "code",
   "execution_count": null,
   "id": "fa203a89",
   "metadata": {},
   "outputs": [],
   "source": [
    "df_dum = pd.get_dummies(df_dum,columns = ['Type','Content Rating'])"
   ]
  },
  {
   "cell_type": "code",
   "execution_count": null,
   "id": "501e491d",
   "metadata": {},
   "outputs": [],
   "source": [
    "df_dum.head()"
   ]
  },
  {
   "cell_type": "markdown",
   "id": "8daa3d56",
   "metadata": {},
   "source": [
    "### 14. Segregate the target and independent features (Hint: Use Rating_category as the target)"
   ]
  },
  {
   "cell_type": "code",
   "execution_count": null,
   "id": "d976d8b9",
   "metadata": {},
   "outputs": [],
   "source": [
    "x = df_dum.drop(['Rating_category'],axis=1)  #independent variables\n",
    "y = df_dum['Rating_category']  #dependent variable\n",
    "\n"
   ]
  },
  {
   "cell_type": "markdown",
   "id": "4ed0a979",
   "metadata": {},
   "source": [
    "### 15. Split the dataset into train and test."
   ]
  },
  {
   "cell_type": "code",
   "execution_count": null,
   "id": "6cfac777",
   "metadata": {},
   "outputs": [],
   "source": [
    "x_train, x_test, y_train, y_test = train_test_split(x, y, test_size=0.30, random_state= 0)\n",
    "x_train.shape,x_test.shape,y_train.shape,y_test.shape"
   ]
  },
  {
   "cell_type": "markdown",
   "id": "20283978",
   "metadata": {},
   "source": [
    "### 16. Standardize the data, so that the values are within a particular range."
   ]
  },
  {
   "cell_type": "code",
   "execution_count": null,
   "id": "cf55efbc",
   "metadata": {},
   "outputs": [],
   "source": [
    "# using log transformation \n",
    "df_transform = transformer.fit_transform(df_dum)"
   ]
  },
  {
   "cell_type": "code",
   "execution_count": null,
   "id": "612f77cd",
   "metadata": {},
   "outputs": [],
   "source": [
    "df_transform.head()"
   ]
  },
  {
   "cell_type": "code",
   "execution_count": null,
   "id": "27b3bb3d",
   "metadata": {},
   "outputs": [],
   "source": [
    "# using min max scaler\n",
    "from sklearn.preprocessing import MinMaxScaler\n",
    "scaler = MinMaxScaler()\n",
    "df_minmax = scaler.fit_transform(df_dum)"
   ]
  },
  {
   "cell_type": "code",
   "execution_count": null,
   "id": "4600f409",
   "metadata": {},
   "outputs": [],
   "source": [
    "df_dum.head()"
   ]
  }
 ],
 "metadata": {
  "kernelspec": {
   "display_name": "Python 3 (ipykernel)",
   "language": "python",
   "name": "python3"
  },
  "language_info": {
   "codemirror_mode": {
    "name": "ipython",
    "version": 3
   },
   "file_extension": ".py",
   "mimetype": "text/x-python",
   "name": "python",
   "nbconvert_exporter": "python",
   "pygments_lexer": "ipython3",
   "version": "3.10.9"
  }
 },
 "nbformat": 4,
 "nbformat_minor": 5
}
